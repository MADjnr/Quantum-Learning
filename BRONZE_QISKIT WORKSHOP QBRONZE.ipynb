{
 "cells": [
  {
   "cell_type": "code",
   "execution_count": 7,
   "metadata": {},
   "outputs": [
    {
     "name": "stdout",
     "output_type": "stream",
     "text": [
      "total 25\n",
      "the weight of one portion is  0.04\n",
      "\n",
      "the probability of getting 1 is 0.28\n",
      "the probability of getting 2 is 0.2\n",
      "the probability of getting 3 is 0.16\n",
      "the probability of getting 4 is 0.08\n",
      "the probability of getting 5 is 0.24\n",
      "the probability of getting 6 is 0.04\n"
     ]
    }
   ],
   "source": [
    "'''\n",
    "uppose that Fyodor hiddenly rolls a loaded (tricky) dice with the bias\n",
    "\n",
    "𝑃𝑟(1):𝑃𝑟(2):𝑃𝑟(3):𝑃𝑟(4):𝑃𝑟(5):𝑃𝑟(6)=7:5:4:2:6:1.\n",
    " \n",
    "Represent your information on the result as a column vector.\n",
    "Remark that the size of your column vector should be 6.\n",
    "\n",
    "You may use python for your calculations.\n",
    "'''\n",
    "\n",
    "#ALL portions are stored in a list\n",
    "\n",
    "all_portions = [7, 5, 4, 2,6,1];\n",
    "    \n",
    "total_portion = 0\n",
    "for i in range(6):\n",
    "    total_portion = total_portion + all_portions[i]\n",
    "print(\"total\", total_portion)\n",
    "\n",
    "#find the weight of one portion\n",
    "\n",
    "one_portion = 1/total_portion\n",
    "\n",
    "print(\"the weight of one portion is \", one_portion)\n",
    "\n",
    "print() #print an empty line\n",
    "\n",
    "#now we can calculate the probabilities of getting 1,2,3,4,5 0r 6\n",
    "\n",
    "for i in range(6):\n",
    "    print(\"the probability of getting\" , (i + 1), \"is\", one_portion * all_portions[i])\n",
    "\n",
    "\n",
    "\n",
    "\n",
    "\n",
    "\n"
   ]
  },
  {
   "cell_type": "code",
   "execution_count": null,
   "metadata": {},
   "outputs": [],
   "source": [
    "For a system with 4 states, randomly create a probabilistic state, and print its entries, e.g.,  0.16  0.17  0.02  0.65 .\n",
    "\n",
    "Hint: You may pick your random numbers between 0 and 100 (or 1000), and then normalize each value by dividing the summation of all numbers.\n",
    "    \n",
    "    \n",
    "    b"
   ]
  },
  {
   "cell_type": "code",
   "execution_count": null,
   "metadata": {},
   "outputs": [],
   "source": [
    "'''Design a circuit\n",
    "We design a quantum circuit with a single quantum bit \n",
    "and a single classical bit.\n",
    "\n",
    "We apply the NOT operator on the quantum bit,\n",
    "and then we measure the quantum bit,\n",
    "the outcome of which will be saved on the classical bit'''\n",
    "\n",
    "\n",
    "\n",
    "\n"
   ]
  },
  {
   "cell_type": "code",
   "execution_count": 1,
   "metadata": {},
   "outputs": [
    {
     "ename": "ImportError",
     "evalue": "DLL load failed while importing _tweedledum: The specified module could not be found.",
     "output_type": "error",
     "traceback": [
      "\u001B[1;31m---------------------------------------------------------------------------\u001B[0m",
      "\u001B[1;31mImportError\u001B[0m                               Traceback (most recent call last)",
      "\u001B[1;32m<ipython-input-1-ce56761211b9>\u001B[0m in \u001B[0;36m<module>\u001B[1;34m\u001B[0m\n\u001B[0;32m      1\u001B[0m \u001B[1;31m#here are the objects that we use to create a quantum circuit\u001B[0m\u001B[1;33m\u001B[0m\u001B[1;33m\u001B[0m\u001B[1;33m\u001B[0m\u001B[0m\n\u001B[1;32m----> 2\u001B[1;33m \u001B[1;32mfrom\u001B[0m \u001B[0mqiskit\u001B[0m \u001B[1;32mimport\u001B[0m \u001B[0mQuantumRegister\u001B[0m\u001B[1;33m,\u001B[0m \u001B[0mClassicalRegister\u001B[0m\u001B[1;33m,\u001B[0m \u001B[0mQuantumCircuit\u001B[0m\u001B[0;31m\\\u001B[0m\u001B[1;33m\u001B[0m\u001B[1;33m\u001B[0m\u001B[0m\n\u001B[0m\u001B[0;32m      3\u001B[0m \u001B[1;33m\u001B[0m\u001B[0m\n\u001B[0;32m      4\u001B[0m \u001B[1;31m#we use a quantum register to keep our quantum bits\u001B[0m\u001B[1;33m\u001B[0m\u001B[1;33m\u001B[0m\u001B[1;33m\u001B[0m\u001B[0m\n\u001B[0;32m      5\u001B[0m \u001B[0mq\u001B[0m \u001B[1;33m=\u001B[0m \u001B[0mQuantumRegister\u001B[0m\u001B[1;33m(\u001B[0m\u001B[1;36m1\u001B[0m\u001B[1;33m,\u001B[0m \u001B[1;34m'qreg'\u001B[0m\u001B[1;33m)\u001B[0m\u001B[1;33m\u001B[0m\u001B[1;33m\u001B[0m\u001B[0m\n",
      "\u001B[1;32m~\\AppData\\Roaming\\Python\\Python38\\site-packages\\qiskit\\__init__.py\u001B[0m in \u001B[0;36m<module>\u001B[1;34m\u001B[0m\n\u001B[0;32m     24\u001B[0m \u001B[1;33m\u001B[0m\u001B[0m\n\u001B[0;32m     25\u001B[0m \u001B[1;31m# The main qiskit operators\u001B[0m\u001B[1;33m\u001B[0m\u001B[1;33m\u001B[0m\u001B[1;33m\u001B[0m\u001B[0m\n\u001B[1;32m---> 26\u001B[1;33m \u001B[1;32mfrom\u001B[0m \u001B[0mqiskit\u001B[0m\u001B[1;33m.\u001B[0m\u001B[0mcircuit\u001B[0m \u001B[1;32mimport\u001B[0m \u001B[0mClassicalRegister\u001B[0m\u001B[1;33m\u001B[0m\u001B[1;33m\u001B[0m\u001B[0m\n\u001B[0m\u001B[0;32m     27\u001B[0m \u001B[1;32mfrom\u001B[0m \u001B[0mqiskit\u001B[0m\u001B[1;33m.\u001B[0m\u001B[0mcircuit\u001B[0m \u001B[1;32mimport\u001B[0m \u001B[0mQuantumRegister\u001B[0m\u001B[1;33m\u001B[0m\u001B[1;33m\u001B[0m\u001B[0m\n\u001B[0;32m     28\u001B[0m \u001B[1;32mfrom\u001B[0m \u001B[0mqiskit\u001B[0m\u001B[1;33m.\u001B[0m\u001B[0mcircuit\u001B[0m \u001B[1;32mimport\u001B[0m \u001B[0mAncillaRegister\u001B[0m\u001B[1;33m\u001B[0m\u001B[1;33m\u001B[0m\u001B[0m\n",
      "\u001B[1;32m~\\AppData\\Roaming\\Python\\Python38\\site-packages\\qiskit\\circuit\\__init__.py\u001B[0m in \u001B[0;36m<module>\u001B[1;34m\u001B[0m\n\u001B[0;32m    229\u001B[0m \u001B[1;32mfrom\u001B[0m \u001B[1;33m.\u001B[0m\u001B[0mparameterexpression\u001B[0m \u001B[1;32mimport\u001B[0m \u001B[0mParameterExpression\u001B[0m\u001B[1;33m\u001B[0m\u001B[1;33m\u001B[0m\u001B[0m\n\u001B[0;32m    230\u001B[0m \u001B[1;32mfrom\u001B[0m \u001B[1;33m.\u001B[0m\u001B[0mequivalence\u001B[0m \u001B[1;32mimport\u001B[0m \u001B[0mEquivalenceLibrary\u001B[0m\u001B[1;33m\u001B[0m\u001B[1;33m\u001B[0m\u001B[0m\n\u001B[1;32m--> 231\u001B[1;33m \u001B[1;32mfrom\u001B[0m \u001B[1;33m.\u001B[0m\u001B[0mclassicalfunction\u001B[0m\u001B[1;33m.\u001B[0m\u001B[0mtypes\u001B[0m \u001B[1;32mimport\u001B[0m \u001B[0mInt1\u001B[0m\u001B[1;33m,\u001B[0m \u001B[0mInt2\u001B[0m\u001B[1;33m\u001B[0m\u001B[1;33m\u001B[0m\u001B[0m\n\u001B[0m\u001B[0;32m    232\u001B[0m \u001B[1;32mfrom\u001B[0m \u001B[1;33m.\u001B[0m\u001B[0mclassicalfunction\u001B[0m \u001B[1;32mimport\u001B[0m \u001B[0mclassical_function\u001B[0m\u001B[1;33m,\u001B[0m \u001B[0mBooleanExpression\u001B[0m\u001B[1;33m\u001B[0m\u001B[1;33m\u001B[0m\u001B[0m\n",
      "\u001B[1;32m~\\AppData\\Roaming\\Python\\Python38\\site-packages\\qiskit\\circuit\\classicalfunction\\__init__.py\u001B[0m in \u001B[0;36m<module>\u001B[1;34m\u001B[0m\n\u001B[0;32m     96\u001B[0m \u001B[1;33m\u001B[0m\u001B[0m\n\u001B[0;32m     97\u001B[0m \"\"\"\n\u001B[1;32m---> 98\u001B[1;33m \u001B[1;32mfrom\u001B[0m \u001B[1;33m.\u001B[0m\u001B[0mclassicalfunction\u001B[0m \u001B[1;32mimport\u001B[0m \u001B[0mClassicalFunction\u001B[0m\u001B[1;33m\u001B[0m\u001B[1;33m\u001B[0m\u001B[0m\n\u001B[0m\u001B[0;32m     99\u001B[0m from .exceptions import (\n\u001B[0;32m    100\u001B[0m     \u001B[0mClassicalFunctionParseError\u001B[0m\u001B[1;33m,\u001B[0m\u001B[1;33m\u001B[0m\u001B[1;33m\u001B[0m\u001B[0m\n",
      "\u001B[1;32m~\\AppData\\Roaming\\Python\\Python38\\site-packages\\qiskit\\circuit\\classicalfunction\\classicalfunction.py\u001B[0m in \u001B[0;36m<module>\u001B[1;34m\u001B[0m\n\u001B[0;32m     16\u001B[0m \u001B[1;32mfrom\u001B[0m \u001B[0mtyping\u001B[0m \u001B[1;32mimport\u001B[0m \u001B[0mCallable\u001B[0m\u001B[1;33m,\u001B[0m \u001B[0mOptional\u001B[0m\u001B[1;33m\u001B[0m\u001B[1;33m\u001B[0m\u001B[0m\n\u001B[0;32m     17\u001B[0m \u001B[1;33m\u001B[0m\u001B[0m\n\u001B[1;32m---> 18\u001B[1;33m \u001B[1;32mfrom\u001B[0m \u001B[0mtweedledum\u001B[0m\u001B[1;33m.\u001B[0m\u001B[0mclassical\u001B[0m \u001B[1;32mimport\u001B[0m \u001B[0msimulate\u001B[0m\u001B[1;33m\u001B[0m\u001B[1;33m\u001B[0m\u001B[0m\n\u001B[0m\u001B[0;32m     19\u001B[0m \u001B[1;32mfrom\u001B[0m \u001B[0mtweedledum\u001B[0m\u001B[1;33m.\u001B[0m\u001B[0msynthesis\u001B[0m \u001B[1;32mimport\u001B[0m \u001B[0mpkrm_synth\u001B[0m\u001B[1;33m\u001B[0m\u001B[1;33m\u001B[0m\u001B[0m\n\u001B[0;32m     20\u001B[0m \u001B[1;33m\u001B[0m\u001B[0m\n",
      "\u001B[1;32m~\\AppData\\Roaming\\Python\\Python38\\site-packages\\tweedledum\\__init__.py\u001B[0m in \u001B[0;36m<module>\u001B[1;34m\u001B[0m\n\u001B[0;32m      3\u001B[0m \u001B[1;31m# See accompanying file /LICENSE for details.\u001B[0m\u001B[1;33m\u001B[0m\u001B[1;33m\u001B[0m\u001B[1;33m\u001B[0m\u001B[0m\n\u001B[0;32m      4\u001B[0m \u001B[1;31m#-------------------------------------------------------------------------------\u001B[0m\u001B[1;33m\u001B[0m\u001B[1;33m\u001B[0m\u001B[1;33m\u001B[0m\u001B[0m\n\u001B[1;32m----> 5\u001B[1;33m \u001B[1;32mfrom\u001B[0m \u001B[1;33m.\u001B[0m\u001B[0m_tweedledum\u001B[0m \u001B[1;32mimport\u001B[0m \u001B[1;33m*\u001B[0m\u001B[1;33m\u001B[0m\u001B[1;33m\u001B[0m\u001B[0m\n\u001B[0m\u001B[0;32m      6\u001B[0m \u001B[1;32mfrom\u001B[0m \u001B[1;33m.\u001B[0m\u001B[0mbool_function_compiler\u001B[0m \u001B[1;32mimport\u001B[0m \u001B[1;33m*\u001B[0m\u001B[1;33m\u001B[0m\u001B[1;33m\u001B[0m\u001B[0m\n",
      "\u001B[1;31mImportError\u001B[0m: DLL load failed while importing _tweedledum: The specified module could not be found."
     ]
    }
   ],
   "source": [
    "#here are the objects that we use to create a quantum circuit\n",
    "from qiskit import QuantumRegister, ClassicalRegister, QuantumCircuit\\\n",
    "\n",
    "#we use a quantum register to keep our quantum bits\n",
    "q = QuantumRegister(1, 'qreg')\n",
    "\n",
    "#to retrieve information from the quantum bit, it must be measured\n",
    "#the measurement result is stored classically.\n",
    "#therefore, we also use a classical register with classical bit\n",
    "\n",
    "c = ClassicalRegister(1, 'creg')\n",
    "\n",
    "#now we can define a quantum circuit\n",
    "#it is composed by a quantum and a classical registers\n",
    "qc = QuantumCircuit(q,c)\n",
    "\n",
    "#we apply operators on quantum bits\n",
    "#operators are called as gates\n",
    "#we apply NOT operator represemted as \"x\" in qiskit\n",
    "#operator is a part of circuit, and we should specify the\n",
    "#qauntun bit as its parameter.\n",
    "qc.x(q[0]) \n",
    "#NOT operator or X-gate is applied to the first qubit of the quantum register\n",
    "\n",
    "#measuremet is defined by associating a qauntum bit to a classical bit\n",
    "qc.measure(q[0],c[0])\n",
    "#after the measurement, the observed value of the quantum bit is stored in the classical bit\n",
    "print('the design of the circuit is done')\n",
    "\n"
   ]
  },
  {
   "cell_type": "code",
   "execution_count": null,
   "metadata": {},
   "outputs": [],
   "source": [
    "#in qiskit, the circuit object has a method called draw\n",
    "\n",
    "\n",
    "#lets draw our circuit now\n",
    "qc.draw()"
   ]
  },
  {
   "cell_type": "code",
   "execution_count": 3,
   "metadata": {},
   "outputs": [
    {
     "data": {
      "image/png": "[encoded data removed]",
      "text/plain": [
       "<Figure size 228.341x144.48 with 1 Axes>"
      ]
     },
     "execution_count": 3,
     "metadata": {},
     "output_type": "execute_result"
    }
   ],
   "source": [
    "#we can draw the same circuit by using matplotlib\n",
    "qc.draw(output = 'mpl')"
   ]
  },
  {
   "cell_type": "code",
   "execution_count": 4,
   "metadata": {
    "scrolled": true
   },
   "outputs": [
    {
     "ename": "SyntaxError",
     "evalue": "invalid syntax (<ipython-input-4-c4679c382e98>, line 3)",
     "output_type": "error",
     "traceback": [
      "\u001B[1;36m  File \u001B[1;32m\"<ipython-input-4-c4679c382e98>\"\u001B[1;36m, line \u001B[1;32m3\u001B[0m\n\u001B[1;33m    from qiskit.provider.aer import aer\u001B[0m\n\u001B[1;37m    ^\u001B[0m\n\u001B[1;31mSyntaxError\u001B[0m\u001B[1;31m:\u001B[0m invalid syntax\n"
     ]
    }
   ],
   "source": [
    "#here are the objects that we use to create a quantum circuit\n",
    "from qiskit import QuantumRegister, ClassicalRegister, QuantumCircuit\\\n",
    "from qiskit.provider.aer import aer\n",
    "\n",
    "#we use a quantum register to keep our quantum bits\n",
    "q = QuantumRegister(1, 'qreg')\n",
    "\n",
    "#to retrieve information from the quantum bit, it must be measured\n",
    "#the measurement result is stored classically.\n",
    "#therefore, we also use a classical register with classical bit\n",
    "\n",
    "c = ClassicalRegister(1, 'creg')\n",
    "\n",
    "#now we can define a quantum circuit\n",
    "#it is composed by a quantum and a classical registers\n",
    "qc = QuantumCircuit(q,c)\n",
    "\n",
    "#we apply operators on quantum bits\n",
    "#operators are called as gates\n",
    "#we apply NOT operator represemted as \"x\" in qiskit\n",
    "#operator is a part of circuit, and we should specify the\n",
    "#qauntun bit as its parameter.\n",
    "qc.x(q[0]) \n",
    "#NOT operator or X-gate is applied to the first qubit of the quantum register\n",
    "\n",
    "#measuremet is defined by associating a qauntum bit to a classical bit\n",
    "qc.measure(q[0],c[0])\n",
    "#after the measurement, the observed value of the quantum bit is stored in the classical bit\n",
    "print('the design of the circuit is done')\n",
    "\n",
    "\n",
    "\n",
    "\n",
    "'''\n",
    "Execute the circuit\n",
    "A quantum program can be executed on a real quantum computer\n",
    "or a local \n",
    "classical simulator or a simulator in the cloud.\n",
    "Here we use a local classical simulator\n",
    "provided by Qiskit and so our results will be (almost) \n",
    "accurate.\n",
    "'''\n",
    "\n",
    "\n",
    "\n",
    "\n",
    "#we use the method \"execute\" and object \"Aer\" from qiskit library\n",
    "from qiskit import execute, Aer\n",
    "\n",
    "#we create a job object for execution of the circuit\n",
    "#there are three parameters\n",
    "#      1. mycircuit\n",
    "#      2. backend on which it will be executed: we will use local SIMULATOR\\\n",
    "#      3. how many times it will be executeed by default it is 1024\n",
    "\n",
    "job = execute(qc,Aer.get_backend('qasm_simulator'),shots = 1024)\n",
    "\n",
    "#we can get the result od the outcome as follows \n",
    "counts = job.result().get_count(qc)\n",
    "print(counts) #counts is a dictionary\n",
    "\n",
    "\n",
    "\n",
    "\n",
    "\n"
   ]
  },
  {
   "cell_type": "code",
   "execution_count": 10,
   "metadata": {
    "scrolled": false
   },
   "outputs": [
    {
     "name": "stdout",
     "output_type": "stream",
     "text": [
      "The version of Qiskit is 0.26.2\n",
      "\n",
      "The version of each component:\n",
      "qiskit-terra -> 0.17.4\n",
      "qiskit-aer -> 0.8.2\n",
      "qiskit-ignis -> 0.6.0\n",
      "qiskit-ibmq-provider -> 0.13.1\n",
      "qiskit-aqua -> 0.9.1\n",
      "qiskit -> 0.26.2\n",
      "qiskit-nature -> None\n",
      "qiskit-finance -> None\n",
      "qiskit-optimization -> None\n",
      "qiskit-machine-learning -> None\n"
     ]
    }
   ],
   "source": [
    "import qiskit\n",
    "versions = qiskit.__qiskit_version__\n",
    "print(\"The version of Qiskit is\",versions['qiskit'])\n",
    "print()\n",
    "print(\"The version of each component:\")\n",
    "for key in versions:\n",
    "    print(key,\"->\",versions[key])"
   ]
  },
  {
   "cell_type": "code",
   "execution_count": 6,
   "metadata": {},
   "outputs": [
    {
     "ename": "IndexError",
     "evalue": "list index out of range",
     "output_type": "error",
     "traceback": [
      "\u001B[1;31m---------------------------------------------------------------------------\u001B[0m",
      "\u001B[1;31mIndexError\u001B[0m                                Traceback (most recent call last)",
      "\u001B[1;32m<ipython-input-6-012e6c192fbf>\u001B[0m in \u001B[0;36m<module>\u001B[1;34m\u001B[0m\n\u001B[0;32m     18\u001B[0m \u001B[1;33m\u001B[0m\u001B[0m\n\u001B[0;32m     19\u001B[0m \u001B[1;31m#apply x-gate to the fourth quantum bit once\u001B[0m\u001B[1;33m\u001B[0m\u001B[1;33m\u001B[0m\u001B[1;33m\u001B[0m\u001B[0m\n\u001B[1;32m---> 20\u001B[1;33m \u001B[0mqc2\u001B[0m\u001B[1;33m.\u001B[0m\u001B[0mx\u001B[0m\u001B[1;33m(\u001B[0m\u001B[0mq\u001B[0m\u001B[1;33m[\u001B[0m\u001B[1;36m3\u001B[0m\u001B[1;33m]\u001B[0m\u001B[1;33m)\u001B[0m\u001B[1;33m\u001B[0m\u001B[1;33m\u001B[0m\u001B[0m\n\u001B[0m\u001B[0;32m     21\u001B[0m \u001B[1;33m\u001B[0m\u001B[0m\n\u001B[0;32m     22\u001B[0m \u001B[1;31m#apply x-gate to the third quantum bit three times\u001B[0m\u001B[1;33m\u001B[0m\u001B[1;33m\u001B[0m\u001B[1;33m\u001B[0m\u001B[0m\n",
      "\u001B[1;32mC:\\ProgramData\\Anaconda3\\lib\\site-packages\\qiskit\\circuit\\register.py\u001B[0m in \u001B[0;36m__getitem__\u001B[1;34m(self, key)\u001B[0m\n\u001B[0;32m    156\u001B[0m                 \u001B[1;32mraise\u001B[0m \u001B[0mCircuitError\u001B[0m\u001B[1;33m(\u001B[0m\u001B[1;34m'register index out of range'\u001B[0m\u001B[1;33m)\u001B[0m\u001B[1;33m\u001B[0m\u001B[1;33m\u001B[0m\u001B[0m\n\u001B[0;32m    157\u001B[0m         \u001B[1;32melse\u001B[0m\u001B[1;33m:\u001B[0m\u001B[1;33m\u001B[0m\u001B[1;33m\u001B[0m\u001B[0m\n\u001B[1;32m--> 158\u001B[1;33m             \u001B[1;32mreturn\u001B[0m \u001B[0mself\u001B[0m\u001B[1;33m.\u001B[0m\u001B[0m_bits\u001B[0m\u001B[1;33m[\u001B[0m\u001B[0mkey\u001B[0m\u001B[1;33m]\u001B[0m\u001B[1;33m\u001B[0m\u001B[1;33m\u001B[0m\u001B[0m\n\u001B[0m\u001B[0;32m    159\u001B[0m \u001B[1;33m\u001B[0m\u001B[0m\n\u001B[0;32m    160\u001B[0m     \u001B[1;32mdef\u001B[0m \u001B[0m__iter__\u001B[0m\u001B[1;33m(\u001B[0m\u001B[0mself\u001B[0m\u001B[1;33m)\u001B[0m\u001B[1;33m:\u001B[0m\u001B[1;33m\u001B[0m\u001B[1;33m\u001B[0m\u001B[0m\n",
      "\u001B[1;31mIndexError\u001B[0m: list index out of range"
     ]
    }
   ],
   "source": [
    "#A QUANTUM CIRCUIT WITH MORE QUANTUM BITS\n",
    "\n",
    "\n",
    "#A quantum circuit with four quantum and classical bit'\n",
    "\n",
    "#import all objects and methods at once\n",
    "from qiskit import QuantumCircuit, QuantumRegister, ClassicalRegister\n",
    "\n",
    "#define qauntum and classical register and then quamtum circut\n",
    "q2 = QuantumRegister(4, 'qreg')\n",
    "c2 = ClassicalRegister(4, 'creg')\n",
    "qc2 = QuantumCircuit(q2,c2)\n",
    "\n",
    "#apply x-gate to the first quantum bit twice\n",
    "\n",
    "qc2.x(q2[0])\n",
    "qc2.x(q2[0])\n",
    "\n",
    "#apply x-gate to the fourth quantum bit once\n",
    "qc2.x(q[3])\n",
    "\n",
    "#apply x-gate to the third quantum bit three times\n",
    "qc2.x(q[2])\n",
    "qc2.x(q[2])\n",
    "qc2.x(q[2])\n",
    "\n",
    "#apply x-gate to the second quantum bit four times\n",
    "qc2.x(q[1])\n",
    "qc2.x(q[1])\n",
    "qc2.x(q[1])\n",
    "qc2.x(q[1])\n",
    "\n",
    "#define a barrier (for better visualiztion)\n",
    "qc2.barrier()\n",
    "\n",
    "#if  the sizes of quantum and classical registers arre the same,\n",
    "#we can define measurement with a single line of code\n",
    "\n",
    "qc2.measure(qc2,c2)\n",
    "#then qautum bits and classical bits are associated with their respective indices \n",
    "\n",
    "print(\"the design of the circuit is done\")\n",
    "\n",
    "\n",
    "\n"
   ]
  },
  {
   "cell_type": "code",
   "execution_count": 2,
   "metadata": {
    "scrolled": true
   },
   "outputs": [
    {
     "data": {
      "text/plain": [
       "{'qiskit-terra': '0.17.4', 'qiskit-aer': None, 'qiskit-ignis': '0.6.0', 'qiskit-ibmq-provider': '0.13.1', 'qiskit-aqua': '0.9.1', 'qiskit': '0.26.2', 'qiskit-nature': None, 'qiskit-finance': None, 'qiskit-optimization': None, 'qiskit-machine-learning': None}"
      ]
     },
     "execution_count": 2,
     "metadata": {},
     "output_type": "execute_result"
    }
   ],
   "source": [
    "qiskit.__qiskit_version__"
   ]
  },
  {
   "cell_type": "code",
   "execution_count": 3,
   "metadata": {
    "scrolled": true
   },
   "outputs": [
    {
     "ename": "CircuitError",
     "evalue": "'register name \"creg\" already exists'",
     "output_type": "error",
     "traceback": [
      "\u001B[1;31m---------------------------------------------------------------------------\u001B[0m",
      "\u001B[1;31mCircuitError\u001B[0m                              Traceback (most recent call last)",
      "\u001B[1;32m<ipython-input-3-7ce4775122cb>\u001B[0m in \u001B[0;36m<module>\u001B[1;34m\u001B[0m\n\u001B[0;32m      3\u001B[0m \u001B[0mc\u001B[0m \u001B[1;33m=\u001B[0m \u001B[0mClassicalRegister\u001B[0m\u001B[1;33m(\u001B[0m\u001B[1;36m1\u001B[0m\u001B[1;33m,\u001B[0m \u001B[1;34m'creg'\u001B[0m\u001B[1;33m)\u001B[0m\u001B[1;33m\u001B[0m\u001B[1;33m\u001B[0m\u001B[0m\n\u001B[0;32m      4\u001B[0m \u001B[1;33m\u001B[0m\u001B[0m\n\u001B[1;32m----> 5\u001B[1;33m \u001B[0mqc\u001B[0m \u001B[1;33m=\u001B[0m \u001B[0mQuantumCircuit\u001B[0m\u001B[1;33m(\u001B[0m\u001B[0mq\u001B[0m\u001B[1;33m,\u001B[0m\u001B[0mc\u001B[0m\u001B[1;33m)\u001B[0m\u001B[1;33m\u001B[0m\u001B[1;33m\u001B[0m\u001B[0m\n\u001B[0m\u001B[0;32m      6\u001B[0m \u001B[1;33m\u001B[0m\u001B[0m\n\u001B[0;32m      7\u001B[0m \u001B[0mqc\u001B[0m\u001B[1;33m.\u001B[0m\u001B[0mh\u001B[0m\u001B[1;33m(\u001B[0m\u001B[0mq\u001B[0m\u001B[1;33m[\u001B[0m\u001B[1;36m0\u001B[0m\u001B[1;33m]\u001B[0m\u001B[1;33m)\u001B[0m\u001B[1;33m\u001B[0m\u001B[1;33m\u001B[0m\u001B[0m\n",
      "\u001B[1;32mC:\\ProgramData\\Anaconda3\\lib\\site-packages\\qiskit\\circuit\\quantumcircuit.py\u001B[0m in \u001B[0;36m__init__\u001B[1;34m(self, name, global_phase, metadata, *regs)\u001B[0m\n\u001B[0;32m    189\u001B[0m         \u001B[0mself\u001B[0m\u001B[1;33m.\u001B[0m\u001B[0m_ancillas\u001B[0m \u001B[1;33m=\u001B[0m \u001B[1;33m[\u001B[0m\u001B[1;33m]\u001B[0m\u001B[1;33m\u001B[0m\u001B[1;33m\u001B[0m\u001B[0m\n\u001B[0;32m    190\u001B[0m         \u001B[0mself\u001B[0m\u001B[1;33m.\u001B[0m\u001B[0m_calibrations\u001B[0m \u001B[1;33m=\u001B[0m \u001B[0mdefaultdict\u001B[0m\u001B[1;33m(\u001B[0m\u001B[0mdict\u001B[0m\u001B[1;33m)\u001B[0m\u001B[1;33m\u001B[0m\u001B[1;33m\u001B[0m\u001B[0m\n\u001B[1;32m--> 191\u001B[1;33m         \u001B[0mself\u001B[0m\u001B[1;33m.\u001B[0m\u001B[0madd_register\u001B[0m\u001B[1;33m(\u001B[0m\u001B[1;33m*\u001B[0m\u001B[0mregs\u001B[0m\u001B[1;33m)\u001B[0m\u001B[1;33m\u001B[0m\u001B[1;33m\u001B[0m\u001B[0m\n\u001B[0m\u001B[0;32m    192\u001B[0m \u001B[1;33m\u001B[0m\u001B[0m\n\u001B[0;32m    193\u001B[0m         \u001B[1;31m# Parameter table tracks instructions with variable parameters.\u001B[0m\u001B[1;33m\u001B[0m\u001B[1;33m\u001B[0m\u001B[1;33m\u001B[0m\u001B[0m\n",
      "\u001B[1;32mC:\\ProgramData\\Anaconda3\\lib\\site-packages\\qiskit\\circuit\\quantumcircuit.py\u001B[0m in \u001B[0;36madd_register\u001B[1;34m(self, *regs)\u001B[0m\n\u001B[0;32m   1101\u001B[0m                     \u001B[1;32mand\u001B[0m \u001B[0many\u001B[0m\u001B[1;33m(\u001B[0m\u001B[0mregister\u001B[0m\u001B[1;33m.\u001B[0m\u001B[0mname\u001B[0m \u001B[1;33m==\u001B[0m \u001B[0mreg\u001B[0m\u001B[1;33m.\u001B[0m\u001B[0mname\u001B[0m \u001B[1;32mfor\u001B[0m \u001B[0mreg\u001B[0m \u001B[1;32min\u001B[0m \u001B[0mself\u001B[0m\u001B[1;33m.\u001B[0m\u001B[0mqregs\u001B[0m \u001B[1;33m+\u001B[0m \u001B[0mself\u001B[0m\u001B[1;33m.\u001B[0m\u001B[0mcregs\u001B[0m\u001B[1;33m)\u001B[0m\u001B[1;33m\u001B[0m\u001B[1;33m\u001B[0m\u001B[0m\n\u001B[0;32m   1102\u001B[0m             ):\n\u001B[1;32m-> 1103\u001B[1;33m                 raise CircuitError(\"register name \\\"%s\\\" already exists\"\n\u001B[0m\u001B[0;32m   1104\u001B[0m                                    % register.name)\n\u001B[0;32m   1105\u001B[0m \u001B[1;33m\u001B[0m\u001B[0m\n",
      "\u001B[1;31mCircuitError\u001B[0m: 'register name \"creg\" already exists'"
     ]
    }
   ],
   "source": [
    "from qiskit import QuantumRegister, ClassicalRegister, QuantumCircuit, execute, Aer\n",
    "q = QuantumRegister(1, 'creg')\n",
    "c = ClassicalRegister(1, 'creg')\n",
    "\n",
    "qc = QuantumCircuit(q,c)\n",
    "\n",
    "qc.h(q[0])\n",
    "\n",
    "qc.measure(q,c)\n",
    "\n",
    "qc.draw(output = 'mpl')"
   ]
  },
  {
   "cell_type": "code",
   "execution_count": 3,
   "metadata": {},
   "outputs": [
    {
     "ename": "TypeError",
     "evalue": "__init__() got an unexpected keyword argument 'figuresize'",
     "output_type": "error",
     "traceback": [
      "\u001B[1;31m---------------------------------------------------------------------------\u001B[0m",
      "\u001B[1;31mTypeError\u001B[0m                                 Traceback (most recent call last)",
      "\u001B[1;32m<ipython-input-3-eaf06dabd093>\u001B[0m in \u001B[0;36m<module>\u001B[1;34m\u001B[0m\n\u001B[0;32m      9\u001B[0m \u001B[1;33m\u001B[0m\u001B[0m\n\u001B[0;32m     10\u001B[0m \u001B[1;31m#draw a figure\u001B[0m\u001B[1;33m\u001B[0m\u001B[1;33m\u001B[0m\u001B[1;33m\u001B[0m\u001B[0m\n\u001B[1;32m---> 11\u001B[1;33m \u001B[0mfigure\u001B[0m\u001B[1;33m(\u001B[0m\u001B[0mfiguresize\u001B[0m\u001B[1;33m=\u001B[0m\u001B[1;33m(\u001B[0m\u001B[1;36m6\u001B[0m\u001B[1;33m,\u001B[0m\u001B[1;36m6\u001B[0m\u001B[1;33m)\u001B[0m\u001B[1;33m,\u001B[0m \u001B[0mdpi\u001B[0m \u001B[1;33m=\u001B[0m \u001B[1;36m80\u001B[0m\u001B[1;33m)\u001B[0m\u001B[1;33m\u001B[0m\u001B[1;33m\u001B[0m\u001B[0m\n\u001B[0m\u001B[0;32m     12\u001B[0m \u001B[1;33m\u001B[0m\u001B[0m\n\u001B[0;32m     13\u001B[0m \u001B[1;31m#include our predefined fucntion\u001B[0m\u001B[1;33m\u001B[0m\u001B[1;33m\u001B[0m\u001B[1;33m\u001B[0m\u001B[0m\n",
      "\u001B[1;32m~\\.conda\\envs\\QBRONZE62\\lib\\site-packages\\matplotlib\\pyplot.py\u001B[0m in \u001B[0;36mfigure\u001B[1;34m(num, figsize, dpi, facecolor, edgecolor, frameon, FigureClass, clear, **kwargs)\u001B[0m\n\u001B[0;32m    795\u001B[0m                 RuntimeWarning)\n\u001B[0;32m    796\u001B[0m \u001B[1;33m\u001B[0m\u001B[0m\n\u001B[1;32m--> 797\u001B[1;33m         manager = new_figure_manager(\n\u001B[0m\u001B[0;32m    798\u001B[0m             \u001B[0mnum\u001B[0m\u001B[1;33m,\u001B[0m \u001B[0mfigsize\u001B[0m\u001B[1;33m=\u001B[0m\u001B[0mfigsize\u001B[0m\u001B[1;33m,\u001B[0m \u001B[0mdpi\u001B[0m\u001B[1;33m=\u001B[0m\u001B[0mdpi\u001B[0m\u001B[1;33m,\u001B[0m\u001B[1;33m\u001B[0m\u001B[1;33m\u001B[0m\u001B[0m\n\u001B[0;32m    799\u001B[0m             \u001B[0mfacecolor\u001B[0m\u001B[1;33m=\u001B[0m\u001B[0mfacecolor\u001B[0m\u001B[1;33m,\u001B[0m \u001B[0medgecolor\u001B[0m\u001B[1;33m=\u001B[0m\u001B[0medgecolor\u001B[0m\u001B[1;33m,\u001B[0m \u001B[0mframeon\u001B[0m\u001B[1;33m=\u001B[0m\u001B[0mframeon\u001B[0m\u001B[1;33m,\u001B[0m\u001B[1;33m\u001B[0m\u001B[1;33m\u001B[0m\u001B[0m\n",
      "\u001B[1;32m~\\.conda\\envs\\QBRONZE62\\lib\\site-packages\\matplotlib\\pyplot.py\u001B[0m in \u001B[0;36mnew_figure_manager\u001B[1;34m(*args, **kwargs)\u001B[0m\n\u001B[0;32m    314\u001B[0m     \u001B[1;34m\"\"\"Create a new figure manager instance.\"\"\"\u001B[0m\u001B[1;33m\u001B[0m\u001B[1;33m\u001B[0m\u001B[0m\n\u001B[0;32m    315\u001B[0m     \u001B[0m_warn_if_gui_out_of_main_thread\u001B[0m\u001B[1;33m(\u001B[0m\u001B[1;33m)\u001B[0m\u001B[1;33m\u001B[0m\u001B[1;33m\u001B[0m\u001B[0m\n\u001B[1;32m--> 316\u001B[1;33m     \u001B[1;32mreturn\u001B[0m \u001B[0m_backend_mod\u001B[0m\u001B[1;33m.\u001B[0m\u001B[0mnew_figure_manager\u001B[0m\u001B[1;33m(\u001B[0m\u001B[1;33m*\u001B[0m\u001B[0margs\u001B[0m\u001B[1;33m,\u001B[0m \u001B[1;33m**\u001B[0m\u001B[0mkwargs\u001B[0m\u001B[1;33m)\u001B[0m\u001B[1;33m\u001B[0m\u001B[1;33m\u001B[0m\u001B[0m\n\u001B[0m\u001B[0;32m    317\u001B[0m \u001B[1;33m\u001B[0m\u001B[0m\n\u001B[0;32m    318\u001B[0m \u001B[1;33m\u001B[0m\u001B[0m\n",
      "\u001B[1;32m~\\.conda\\envs\\QBRONZE62\\lib\\site-packages\\matplotlib\\backend_bases.py\u001B[0m in \u001B[0;36mnew_figure_manager\u001B[1;34m(cls, num, *args, **kwargs)\u001B[0m\n\u001B[0;32m   3542\u001B[0m         \u001B[1;32mfrom\u001B[0m \u001B[0mmatplotlib\u001B[0m\u001B[1;33m.\u001B[0m\u001B[0mfigure\u001B[0m \u001B[1;32mimport\u001B[0m \u001B[0mFigure\u001B[0m\u001B[1;33m\u001B[0m\u001B[1;33m\u001B[0m\u001B[0m\n\u001B[0;32m   3543\u001B[0m         \u001B[0mfig_cls\u001B[0m \u001B[1;33m=\u001B[0m \u001B[0mkwargs\u001B[0m\u001B[1;33m.\u001B[0m\u001B[0mpop\u001B[0m\u001B[1;33m(\u001B[0m\u001B[1;34m'FigureClass'\u001B[0m\u001B[1;33m,\u001B[0m \u001B[0mFigure\u001B[0m\u001B[1;33m)\u001B[0m\u001B[1;33m\u001B[0m\u001B[1;33m\u001B[0m\u001B[0m\n\u001B[1;32m-> 3544\u001B[1;33m         \u001B[0mfig\u001B[0m \u001B[1;33m=\u001B[0m \u001B[0mfig_cls\u001B[0m\u001B[1;33m(\u001B[0m\u001B[1;33m*\u001B[0m\u001B[0margs\u001B[0m\u001B[1;33m,\u001B[0m \u001B[1;33m**\u001B[0m\u001B[0mkwargs\u001B[0m\u001B[1;33m)\u001B[0m\u001B[1;33m\u001B[0m\u001B[1;33m\u001B[0m\u001B[0m\n\u001B[0m\u001B[0;32m   3545\u001B[0m         \u001B[1;32mreturn\u001B[0m \u001B[0mcls\u001B[0m\u001B[1;33m.\u001B[0m\u001B[0mnew_figure_manager_given_figure\u001B[0m\u001B[1;33m(\u001B[0m\u001B[0mnum\u001B[0m\u001B[1;33m,\u001B[0m \u001B[0mfig\u001B[0m\u001B[1;33m)\u001B[0m\u001B[1;33m\u001B[0m\u001B[1;33m\u001B[0m\u001B[0m\n\u001B[0;32m   3546\u001B[0m \u001B[1;33m\u001B[0m\u001B[0m\n",
      "\u001B[1;31mTypeError\u001B[0m: __init__() got an unexpected keyword argument 'figuresize'"
     ]
    }
   ],
   "source": [
    "'''We draw these quantum states as points.\n",
    "\n",
    "We use one of our predefined functions for drawing axes: \n",
    "\"draw_axes()\". We include our predefined functions with the following line of code:\n",
    "\n",
    "%run quantum.py'''\n",
    "\n",
    "from matplotlib.pyplot import plot, figure, show\n",
    "\n",
    "#draw a figure\n",
    "figure(figuresize=(6,6), dpi = 80)\n",
    "\n",
    "#include our predefined fucntion\n",
    "%run quantum.py\n",
    "\n",
    "#draw the axes\n",
    "draw_axes()\n",
    "\n",
    "\n",
    "plot(0,0, 'ro') #a point in red color\n",
    "\n",
    "#draw these quantum states as points (in blue, green, yellow and cyan colors))\n",
    "\n",
    "plot(1,0, 'bo')\n",
    "plot(0,1, 'go')\n",
    "plot(-1,0, 'yo')\n",
    "plot(0,-1, 'co')\n",
    "\n",
    "show()\n",
    "\n"
   ]
  },
  {
   "cell_type": "code",
   "execution_count": 7,
   "metadata": {},
   "outputs": [
    {
     "name": "stdout",
     "output_type": "stream",
     "text": [
      "vector |v>\n",
      "total is  0.51\n",
      "the missing part is  0.49\n",
      "so, the value of 'a' can be 0.7 or -0.7\n",
      "\n",
      "vector |u>\n",
      "total is  0.8333333333333333\n",
      "the missing part is  0.16666666666666674\n",
      "so the value of 'b' should be  5.999999999999997\n"
     ]
    }
   ],
   "source": [
    "#task 1 in quantum states \n",
    "\n",
    "'''\n",
    "let a and b be real numbers\n",
    "if the following vectors are valid quantum states, the\n",
    "can be the values of a and b'''\n",
    "\n",
    "\n",
    "#vector /v>\n",
    "\n",
    "print(\"vector |v>\")\n",
    "\n",
    "values = [-0.1, -0.3, 0.4, 0.5]\n",
    "\n",
    "total = 0  #summation of sqaures\n",
    "for i in range(len(values)):\n",
    "    total += values[i]**2; #add the square of each value\n",
    "print(\"total is \", total)\n",
    "print(\"the missing part is \", 1-total)\n",
    "print(\"so, the value of 'a' can be\", (1-total)**0.5, \"or\", -(1-total)**0.5)\n",
    "\n",
    "print()\n",
    "\n",
    "\n",
    "\n",
    "print(\"vector |u>\")\n",
    "\n",
    "values = [1/(2**0.5), -1/(3**0.5)]\n",
    "\n",
    "total = 0\n",
    "for i in range(len(values)):\n",
    "    total = total + values[i]**2;\n",
    "print(\"total is \", total)\n",
    "print(\"the missing part is \", 1-total)\n",
    "print(\"so the value of 'b' should be \", 1/(1-total))\n",
    "\n",
    "\n",
    "\n",
    "\n",
    "\n",
    "\n"
   ]
  },
  {
   "cell_type": "code",
   "execution_count": null,
   "metadata": {},
   "outputs": [],
   "source": [
    "#randomly creating a 2 dimensional quantum state\n",
    "from random import randrange\n",
    "def random_quantum_state():\n",
    "    first_entry = randrange(-100,101)\n",
    "    second_entry = randrange(-100,101)\n",
    "    length_square = first_entry**2+second_entry**2\n",
    "    while length_square == 0:\n",
    "        first_entry = randrange(-100,101)\n",
    "        second_entry = randrange(-100,101)\n",
    "        length_square = first_entry**2+second_entry**2\n",
    "    first_entry = first_entry / \n",
    "\n",
    "\n",
    "\n",
    "\n",
    "\n",
    "\n",
    "\n",
    "\n",
    "\n",
    "\n",
    "\n",
    "\n",
    "\n",
    "\n",
    "\n",
    "\n",
    "\n",
    "\n",
    "\n",
    "\n"
   ]
  },
  {
   "cell_type": "code",
   "execution_count": 8,
   "metadata": {},
   "outputs": [
    {
     "ename": "Exception",
     "evalue": "File `'quantum.py'` not found.",
     "output_type": "error",
     "traceback": [
      "\u001B[1;31m---------------------------------------------------------------------------\u001B[0m",
      "\u001B[1;31mOSError\u001B[0m                                   Traceback (most recent call last)",
      "\u001B[1;32m~\\.conda\\envs\\QBRONZE62\\lib\\site-packages\\IPython\\core\\magics\\execution.py\u001B[0m in \u001B[0;36mrun\u001B[1;34m(self, parameter_s, runner, file_finder)\u001B[0m\n\u001B[0;32m    702\u001B[0m             \u001B[0mfpath\u001B[0m \u001B[1;33m=\u001B[0m \u001B[0marg_lst\u001B[0m\u001B[1;33m[\u001B[0m\u001B[1;36m0\u001B[0m\u001B[1;33m]\u001B[0m\u001B[1;33m\u001B[0m\u001B[1;33m\u001B[0m\u001B[0m\n\u001B[1;32m--> 703\u001B[1;33m             \u001B[0mfilename\u001B[0m \u001B[1;33m=\u001B[0m \u001B[0mfile_finder\u001B[0m\u001B[1;33m(\u001B[0m\u001B[0mfpath\u001B[0m\u001B[1;33m)\u001B[0m\u001B[1;33m\u001B[0m\u001B[1;33m\u001B[0m\u001B[0m\n\u001B[0m\u001B[0;32m    704\u001B[0m         \u001B[1;32mexcept\u001B[0m \u001B[0mIndexError\u001B[0m\u001B[1;33m:\u001B[0m\u001B[1;33m\u001B[0m\u001B[1;33m\u001B[0m\u001B[0m\n",
      "\u001B[1;32m~\\.conda\\envs\\QBRONZE62\\lib\\site-packages\\IPython\\utils\\path.py\u001B[0m in \u001B[0;36mget_py_filename\u001B[1;34m(name, force_win32)\u001B[0m\n\u001B[0;32m    108\u001B[0m     \u001B[1;32melse\u001B[0m\u001B[1;33m:\u001B[0m\u001B[1;33m\u001B[0m\u001B[1;33m\u001B[0m\u001B[0m\n\u001B[1;32m--> 109\u001B[1;33m         \u001B[1;32mraise\u001B[0m \u001B[0mIOError\u001B[0m\u001B[1;33m(\u001B[0m\u001B[1;34m'File `%r` not found.'\u001B[0m \u001B[1;33m%\u001B[0m \u001B[0mname\u001B[0m\u001B[1;33m)\u001B[0m\u001B[1;33m\u001B[0m\u001B[1;33m\u001B[0m\u001B[0m\n\u001B[0m\u001B[0;32m    110\u001B[0m \u001B[1;33m\u001B[0m\u001B[0m\n",
      "\u001B[1;31mOSError\u001B[0m: File `'quantum.py'` not found.",
      "\nDuring handling of the above exception, another exception occurred:\n",
      "\u001B[1;31mException\u001B[0m                                 Traceback (most recent call last)",
      "\u001B[1;32m<ipython-input-8-f8869e3b2014>\u001B[0m in \u001B[0;36m<module>\u001B[1;34m\u001B[0m\n\u001B[1;32m----> 1\u001B[1;33m \u001B[0mget_ipython\u001B[0m\u001B[1;33m(\u001B[0m\u001B[1;33m)\u001B[0m\u001B[1;33m.\u001B[0m\u001B[0mrun_line_magic\u001B[0m\u001B[1;33m(\u001B[0m\u001B[1;34m'run'\u001B[0m\u001B[1;33m,\u001B[0m \u001B[1;34m'quantum.py'\u001B[0m\u001B[1;33m)\u001B[0m\u001B[1;33m\u001B[0m\u001B[1;33m\u001B[0m\u001B[0m\n\u001B[0m\u001B[0;32m      2\u001B[0m \u001B[1;33m\u001B[0m\u001B[0m\n\u001B[0;32m      3\u001B[0m \u001B[0mdraw_qubit\u001B[0m\u001B[1;33m(\u001B[0m\u001B[1;33m)\u001B[0m\u001B[1;33m\u001B[0m\u001B[1;33m\u001B[0m\u001B[0m\n\u001B[0;32m      4\u001B[0m \u001B[1;33m\u001B[0m\u001B[0m\n\u001B[0;32m      5\u001B[0m \u001B[0msqrttwo\u001B[0m \u001B[1;33m=\u001B[0m \u001B[1;36m2\u001B[0m\u001B[1;33m**\u001B[0m\u001B[1;36m0.5\u001B[0m\u001B[1;33m\u001B[0m\u001B[1;33m\u001B[0m\u001B[0m\n",
      "\u001B[1;32m~\\.conda\\envs\\QBRONZE62\\lib\\site-packages\\IPython\\core\\interactiveshell.py\u001B[0m in \u001B[0;36mrun_line_magic\u001B[1;34m(self, magic_name, line, _stack_depth)\u001B[0m\n\u001B[0;32m   2342\u001B[0m                 \u001B[0mkwargs\u001B[0m\u001B[1;33m[\u001B[0m\u001B[1;34m'local_ns'\u001B[0m\u001B[1;33m]\u001B[0m \u001B[1;33m=\u001B[0m \u001B[0mself\u001B[0m\u001B[1;33m.\u001B[0m\u001B[0mget_local_scope\u001B[0m\u001B[1;33m(\u001B[0m\u001B[0mstack_depth\u001B[0m\u001B[1;33m)\u001B[0m\u001B[1;33m\u001B[0m\u001B[1;33m\u001B[0m\u001B[0m\n\u001B[0;32m   2343\u001B[0m             \u001B[1;32mwith\u001B[0m \u001B[0mself\u001B[0m\u001B[1;33m.\u001B[0m\u001B[0mbuiltin_trap\u001B[0m\u001B[1;33m:\u001B[0m\u001B[1;33m\u001B[0m\u001B[1;33m\u001B[0m\u001B[0m\n\u001B[1;32m-> 2344\u001B[1;33m                 \u001B[0mresult\u001B[0m \u001B[1;33m=\u001B[0m \u001B[0mfn\u001B[0m\u001B[1;33m(\u001B[0m\u001B[1;33m*\u001B[0m\u001B[0margs\u001B[0m\u001B[1;33m,\u001B[0m \u001B[1;33m**\u001B[0m\u001B[0mkwargs\u001B[0m\u001B[1;33m)\u001B[0m\u001B[1;33m\u001B[0m\u001B[1;33m\u001B[0m\u001B[0m\n\u001B[0m\u001B[0;32m   2345\u001B[0m             \u001B[1;32mreturn\u001B[0m \u001B[0mresult\u001B[0m\u001B[1;33m\u001B[0m\u001B[1;33m\u001B[0m\u001B[0m\n\u001B[0;32m   2346\u001B[0m \u001B[1;33m\u001B[0m\u001B[0m\n",
      "\u001B[1;32m~\\.conda\\envs\\QBRONZE62\\lib\\site-packages\\decorator.py\u001B[0m in \u001B[0;36mfun\u001B[1;34m(*args, **kw)\u001B[0m\n\u001B[0;32m    230\u001B[0m             \u001B[1;32mif\u001B[0m \u001B[1;32mnot\u001B[0m \u001B[0mkwsyntax\u001B[0m\u001B[1;33m:\u001B[0m\u001B[1;33m\u001B[0m\u001B[1;33m\u001B[0m\u001B[0m\n\u001B[0;32m    231\u001B[0m                 \u001B[0margs\u001B[0m\u001B[1;33m,\u001B[0m \u001B[0mkw\u001B[0m \u001B[1;33m=\u001B[0m \u001B[0mfix\u001B[0m\u001B[1;33m(\u001B[0m\u001B[0margs\u001B[0m\u001B[1;33m,\u001B[0m \u001B[0mkw\u001B[0m\u001B[1;33m,\u001B[0m \u001B[0msig\u001B[0m\u001B[1;33m)\u001B[0m\u001B[1;33m\u001B[0m\u001B[1;33m\u001B[0m\u001B[0m\n\u001B[1;32m--> 232\u001B[1;33m             \u001B[1;32mreturn\u001B[0m \u001B[0mcaller\u001B[0m\u001B[1;33m(\u001B[0m\u001B[0mfunc\u001B[0m\u001B[1;33m,\u001B[0m \u001B[1;33m*\u001B[0m\u001B[1;33m(\u001B[0m\u001B[0mextras\u001B[0m \u001B[1;33m+\u001B[0m \u001B[0margs\u001B[0m\u001B[1;33m)\u001B[0m\u001B[1;33m,\u001B[0m \u001B[1;33m**\u001B[0m\u001B[0mkw\u001B[0m\u001B[1;33m)\u001B[0m\u001B[1;33m\u001B[0m\u001B[1;33m\u001B[0m\u001B[0m\n\u001B[0m\u001B[0;32m    233\u001B[0m     \u001B[0mfun\u001B[0m\u001B[1;33m.\u001B[0m\u001B[0m__name__\u001B[0m \u001B[1;33m=\u001B[0m \u001B[0mfunc\u001B[0m\u001B[1;33m.\u001B[0m\u001B[0m__name__\u001B[0m\u001B[1;33m\u001B[0m\u001B[1;33m\u001B[0m\u001B[0m\n\u001B[0;32m    234\u001B[0m     \u001B[0mfun\u001B[0m\u001B[1;33m.\u001B[0m\u001B[0m__doc__\u001B[0m \u001B[1;33m=\u001B[0m \u001B[0mfunc\u001B[0m\u001B[1;33m.\u001B[0m\u001B[0m__doc__\u001B[0m\u001B[1;33m\u001B[0m\u001B[1;33m\u001B[0m\u001B[0m\n",
      "\u001B[1;32m~\\.conda\\envs\\QBRONZE62\\lib\\site-packages\\IPython\\core\\magic.py\u001B[0m in \u001B[0;36m<lambda>\u001B[1;34m(f, *a, **k)\u001B[0m\n\u001B[0;32m    185\u001B[0m     \u001B[1;31m# but it's overkill for just that one bit of state.\u001B[0m\u001B[1;33m\u001B[0m\u001B[1;33m\u001B[0m\u001B[1;33m\u001B[0m\u001B[0m\n\u001B[0;32m    186\u001B[0m     \u001B[1;32mdef\u001B[0m \u001B[0mmagic_deco\u001B[0m\u001B[1;33m(\u001B[0m\u001B[0marg\u001B[0m\u001B[1;33m)\u001B[0m\u001B[1;33m:\u001B[0m\u001B[1;33m\u001B[0m\u001B[1;33m\u001B[0m\u001B[0m\n\u001B[1;32m--> 187\u001B[1;33m         \u001B[0mcall\u001B[0m \u001B[1;33m=\u001B[0m \u001B[1;32mlambda\u001B[0m \u001B[0mf\u001B[0m\u001B[1;33m,\u001B[0m \u001B[1;33m*\u001B[0m\u001B[0ma\u001B[0m\u001B[1;33m,\u001B[0m \u001B[1;33m**\u001B[0m\u001B[0mk\u001B[0m\u001B[1;33m:\u001B[0m \u001B[0mf\u001B[0m\u001B[1;33m(\u001B[0m\u001B[1;33m*\u001B[0m\u001B[0ma\u001B[0m\u001B[1;33m,\u001B[0m \u001B[1;33m**\u001B[0m\u001B[0mk\u001B[0m\u001B[1;33m)\u001B[0m\u001B[1;33m\u001B[0m\u001B[1;33m\u001B[0m\u001B[0m\n\u001B[0m\u001B[0;32m    188\u001B[0m \u001B[1;33m\u001B[0m\u001B[0m\n\u001B[0;32m    189\u001B[0m         \u001B[1;32mif\u001B[0m \u001B[0mcallable\u001B[0m\u001B[1;33m(\u001B[0m\u001B[0marg\u001B[0m\u001B[1;33m)\u001B[0m\u001B[1;33m:\u001B[0m\u001B[1;33m\u001B[0m\u001B[1;33m\u001B[0m\u001B[0m\n",
      "\u001B[1;32m~\\.conda\\envs\\QBRONZE62\\lib\\site-packages\\IPython\\core\\magics\\execution.py\u001B[0m in \u001B[0;36mrun\u001B[1;34m(self, parameter_s, runner, file_finder)\u001B[0m\n\u001B[0;32m    712\u001B[0m             \u001B[1;32mif\u001B[0m \u001B[0mos\u001B[0m\u001B[1;33m.\u001B[0m\u001B[0mname\u001B[0m \u001B[1;33m==\u001B[0m \u001B[1;34m'nt'\u001B[0m \u001B[1;32mand\u001B[0m \u001B[0mre\u001B[0m\u001B[1;33m.\u001B[0m\u001B[0mmatch\u001B[0m\u001B[1;33m(\u001B[0m\u001B[1;34mr\"^'.*'$\"\u001B[0m\u001B[1;33m,\u001B[0m\u001B[0mfpath\u001B[0m\u001B[1;33m)\u001B[0m\u001B[1;33m:\u001B[0m\u001B[1;33m\u001B[0m\u001B[1;33m\u001B[0m\u001B[0m\n\u001B[0;32m    713\u001B[0m                 \u001B[0mwarn\u001B[0m\u001B[1;33m(\u001B[0m\u001B[1;34m'For Windows, use double quotes to wrap a filename: %run \"mypath\\\\myfile.py\"'\u001B[0m\u001B[1;33m)\u001B[0m\u001B[1;33m\u001B[0m\u001B[1;33m\u001B[0m\u001B[0m\n\u001B[1;32m--> 714\u001B[1;33m             \u001B[1;32mraise\u001B[0m \u001B[0mException\u001B[0m\u001B[1;33m(\u001B[0m\u001B[0mmsg\u001B[0m\u001B[1;33m)\u001B[0m\u001B[1;33m\u001B[0m\u001B[1;33m\u001B[0m\u001B[0m\n\u001B[0m\u001B[0;32m    715\u001B[0m         \u001B[1;32mexcept\u001B[0m \u001B[0mTypeError\u001B[0m\u001B[1;33m:\u001B[0m\u001B[1;33m\u001B[0m\u001B[1;33m\u001B[0m\u001B[0m\n\u001B[0;32m    716\u001B[0m             \u001B[1;32mif\u001B[0m \u001B[0mfpath\u001B[0m \u001B[1;32min\u001B[0m \u001B[0msys\u001B[0m\u001B[1;33m.\u001B[0m\u001B[0mmeta_path\u001B[0m\u001B[1;33m:\u001B[0m\u001B[1;33m\u001B[0m\u001B[1;33m\u001B[0m\u001B[0m\n",
      "\u001B[1;31mException\u001B[0m: File `'quantum.py'` not found."
     ]
    }
   ],
   "source": [
    "%run quantum.py\n",
    "\n",
    "draw_qubit()\n",
    "\n",
    "sqrttwo = 2**0.5\n",
    "\n",
    "draw_quantum_state(1,0, \"\")\n",
    "\n",
    "draw_quantum_state(1/sqrttwo, 1/sqrttwo, \"|+>\")\n",
    "\n",
    "#drawing the angle with /0> - axis\n",
    "from matplotlib.pyplot import gca, text\n",
    "from matplotlib.patches import Arc\n",
    "gca().add_patches( Arc((0,0),0.4,0.4,angle=0,theta1=0,theta2=45) )\n",
    "text(0.08,0.05, '.', fontsize=30)\n",
    "text(0.21,0.09, '\\u03c0/4')\n",
    "show_plt()\n",
    "\n",
    "\n",
    "\n"
   ]
  },
  {
   "cell_type": "code",
   "execution_count": 26,
   "metadata": {},
   "outputs": [
    {
     "data": {
      "image/png": "[encoded data removed]",
      "text/plain": [
       "<Figure size 955.795x686.28 with 1 Axes>"
      ]
     },
     "metadata": {},
     "output_type": "display_data"
    }
   ],
   "source": [
    "'''Create a quantum ciruit with 5 qubits.\n",
    "\n",
    "Apply h-gate (Hadamard operator) to each qubit.\n",
    "\n",
    "Apply z-gate ( 𝑍  operator) to randomly picked qubits. (i.e.,  𝑚𝑦𝑐𝑖𝑟𝑐𝑢𝑖𝑡.𝑧(𝑞𝑟𝑒𝑔[𝑖]) )\n",
    "\n",
    "Apply h-gate to each qubit.\n",
    "\n",
    "Measure each qubit.\n",
    "\n",
    "Execute your program 1000 times.\n",
    "\n",
    "Compare the outcomes of the qubits affected by z-gates, and the outcomes of the qubits not affected by z-gates.\n",
    "\n",
    "Does z-gate change the outcome?\n",
    "\n",
    "Why?'''\n",
    "\n",
    "\n",
    "from qiskit import QuantumRegister, ClassicalRegister, QuantumCircuit,execute,Aer\n",
    "\n",
    "from random import randrange\n",
    "\n",
    "number_of_qubit = 10\n",
    "\n",
    "q = QuantumRegister(number_of_qubit)\n",
    "c = ClassicalRegister(number_of_qubit)\n",
    "qc = QuantumCircuit(q,c)\n",
    "\n",
    "\n",
    "#to apply H gate to all qubits\n",
    "for i in range(number_of_qubit):\n",
    "    qc.h(q[i])\n",
    "#apply z gate to all randomly picked qubits\n",
    "for i in range(number_of_qubit):\n",
    "    if randrange(2) == 0:\n",
    "        qc.z(q[i])\n",
    "        \n",
    "for i in range(number_of_qubit):\n",
    "    qc.h(q[i])\n",
    "    \n",
    "    \n",
    "qc.barrier()\n",
    "\n",
    "qc.measure(q,c)\n",
    "\n",
    "display(qc.draw(output= 'mpl'))\n",
    "\n",
    "\n",
    "\n"
   ]
  },
  {
   "cell_type": "code",
   "execution_count": 27,
   "metadata": {},
   "outputs": [
    {
     "name": "stdout",
     "output_type": "stream",
     "text": [
      "{'1011110000': 1000}\n"
     ]
    }
   ],
   "source": [
    "#execute the circuit 1000 times in the local simulator\n",
    "from qiskit import *\n",
    "job = execute(qc,Aer.get_backend('qasm_simulator'), shots=1000)\n",
    "counts = job.result().get_counts(qc)\n",
    "print(counts)\n",
    "\n"
   ]
  },
  {
   "cell_type": "code",
   "execution_count": 29,
   "metadata": {},
   "outputs": [
    {
     "name": "stdout",
     "output_type": "stream",
     "text": [
      "['Happy Birthday to you', 'Happy Birthday to you', 'Happy Birthday to MADU AFAM DANIEL', 'Happy Birthday to you']\n"
     ]
    }
   ],
   "source": [
    "print([\"Happy Birthday to {}\".format(\"you\" if x!=2 else \"MADU AFAM DANIEL\") for x in range(4)])"
   ]
  },
  {
   "cell_type": "code",
   "execution_count": 1,
   "metadata": {},
   "outputs": [
    {
     "data": {
      "image/png": "[encoded data removed]",
      "text/plain": [
       "<Figure size 146.652x144.48 with 1 Axes>"
      ]
     },
     "execution_count": 1,
     "metadata": {},
     "output_type": "execute_result"
    }
   ],
   "source": [
    "from qiskit import QuantumCircuit\n",
    "qc = QuantumCircuit(2)\n",
    "\n",
    "qc.h(0)\n",
    "qc.h(1)\n",
    "\n",
    "qc.draw(output = 'mpl', reverse_bits = True)"
   ]
  },
  {
   "cell_type": "code",
   "execution_count": 5,
   "metadata": {},
   "outputs": [
    {
     "data": {
      "image/png": "[encoded data removed]",
      "text/plain": [
       "<Figure size 507.852x204.68 with 1 Axes>"
      ]
     },
     "metadata": {},
     "output_type": "display_data"
    },
    {
     "name": "stdout",
     "output_type": "stream",
     "text": [
      "11 is mapped to {'01': 100}\n"
     ]
    }
   ],
   "source": [
    "'''\n",
    "Our task is to learn the behavior of the following quantum circuit by doing experiments.\n",
    "\n",
    "Our circuit has two qubits:  𝑞0  and  𝑞1 . They are tensored as  𝑞1⊗𝑞0  in Qiskit.\n",
    "\n",
    "Apply Hadamard to the both qubits.\n",
    "Apply CNOT( 𝑞1 , 𝑞0 ).\n",
    "Apply Hadamard to the both qubits.\n",
    "Measure the circuit.\n",
    "Iteratively initialize the qubits to  |00⟩ ,  |01⟩ ,  |10⟩ , and  |11⟩ .\n",
    "\n",
    "Execute your program 100 times for each iteration, and then check the outcomes for each iteration.\n",
    "\n",
    "Observe that the overall circuit implements CNOT( 𝑞0 , 𝑞1 ).\n",
    "'''\n",
    "from qiskit import QuantumRegister, ClassicalRegister, QuantumCircuit, execute, Aer\n",
    "\n",
    "all_inputs = ['00', '01','10','11']\n",
    "\n",
    "for input in all_inputs:\n",
    "    q = QuantumRegister(2, \"q\")\n",
    "    c = ClassicalRegister(2, \"c\")\n",
    "    qc = QuantumCircuit(q,c)\n",
    "\n",
    "if input[0] == '1':\n",
    "    qc.x(q[1]) #set the state of the up qubit to |1>\n",
    "\n",
    "if input[1] == '1':\n",
    "    qc.x(q[0]) #set the state of the down of  qubit to |1>\n",
    "    \n",
    "\n",
    "#apply h-gate to both qubits\n",
    "qc.h(q[0])\n",
    "qc.h(q[1])\n",
    "\n",
    "#apply cx(up-qubit, down-qubit)\n",
    "qc.cx(q[1],q[0])\n",
    "\n",
    "#apply h-gate to both qubits\n",
    "qc.h(q[0])\n",
    "qc.h(q[1])\n",
    "\n",
    "#measure both qubits\n",
    "qc.barrier()\n",
    "qc.measure(q,c)\n",
    "\n",
    "#draw the circuit wrt the reading order of qiskit\n",
    "display(qc.draw(output = 'mpl', reverse_bits = True))\n",
    "\n",
    "#execute the circuit 100 times in the local simulator\n",
    "job = execute(qc, Aer.get_backend('qasm_simulator'), shots = 100)\n",
    "counts= job.result().get_counts(qc)\n",
    "print(input, \"is mapped to\",counts)\n",
    "\n",
    "\n",
    "\n",
    "\n",
    "\n",
    "\n",
    "\n"
   ]
  },
  {
   "cell_type": "code",
   "execution_count": 3,
   "metadata": {},
   "outputs": [
    {
     "data": {
      "image/png": "[encoded data removed]",
      "text/plain": [
       "<Figure size 641.669x385.28 with 1 Axes>"
      ]
     },
     "metadata": {},
     "output_type": "display_data"
    },
    {
     "name": "stdout",
     "output_type": "stream",
     "text": [
      "{'01111': 1000}\n"
     ]
    }
   ],
   "source": [
    "'''\n",
    "Create a quantum ciruit with 5 qubits.\n",
    "\n",
    "Apply h-gate (Hadamard operator) to each qubit.\n",
    "\n",
    "Apply z-gate ( 𝑍  operator) to randomly picked qubits. (i.e.,  𝑚𝑦𝑐𝑖𝑟𝑐𝑢𝑖𝑡.𝑧(𝑞𝑟𝑒𝑔[𝑖]) )\n",
    "\n",
    "Apply h-gate to each qubit.\n",
    "\n",
    "Measure each qubit.\n",
    "\n",
    "Execute your program 1000 times.\n",
    "\n",
    "Compare the outcomes of the qubits affected by z-gates, and the outcomes of the qubits not affected by z-gates.\n",
    "\n",
    "Does z-gate change the outcome?\n",
    "\n",
    "Why?\n",
    "'''\n",
    "\n",
    "from qiskit import QuantumRegister, QuantumCircuit, ClassicalRegister, execute, Aer\n",
    "from random import randrange\n",
    "from qiskit.visualization import plot_histogram, plot_bloch_vector\n",
    "no_of_qubits = 5\n",
    "\n",
    "q = QuantumRegister(no_of_qubits)\n",
    "c = ClassicalRegister(no_of_qubits)\n",
    "\n",
    "\n",
    "qc = QuantumCircuit(q,c)\n",
    "\n",
    "for i in range(no_of_qubits):\n",
    "    qc.h(q[i])\n",
    "\n",
    "\n",
    "\n",
    "for i in range(no_of_qubits):\n",
    "    if randrange(2) == 0:\n",
    "        qc.z(q[i])\n",
    "        \n",
    "for i in range(no_of_qubits):\n",
    "    qc.h(q[i])\n",
    "    \n",
    "qc.barrier()\n",
    "\n",
    "qc.measure(q,c)\n",
    "\n",
    "\n",
    "display(qc.draw(output= 'mpl'))\n",
    "\n",
    "#execute the circuit 1000 times in the local simulator\n",
    "\n",
    "job = execute(qc, Aer.get_backend('qasm_simulator'), shots = 1000)\n",
    "\n",
    "counts = job.result().get_counts(qc)\n",
    "\n",
    "print(counts)\n",
    "\n",
    "\n",
    "\n",
    "\n",
    "\n",
    "\n",
    "\n",
    "\n",
    "\n",
    "\n"
   ]
  },
  {
   "cell_type": "code",
   "execution_count": 7,
   "metadata": {},
   "outputs": [
    {
     "name": "stdout",
     "output_type": "stream",
     "text": [
      "6 meters\n"
     ]
    }
   ],
   "source": [
    "w = 2 \n",
    "r = 4\n",
    "\n",
    "e = w+r\n",
    "print(e, 'meters')"
   ]
  },
  {
   "cell_type": "code",
   "execution_count": 20,
   "metadata": {
    "scrolled": true
   },
   "outputs": [
    {
     "ename": "NameError",
     "evalue": "name 'counts' is not defined",
     "output_type": "error",
     "traceback": [
      "\u001B[1;31m---------------------------------------------------------------------------\u001B[0m",
      "\u001B[1;31mNameError\u001B[0m                                 Traceback (most recent call last)",
      "\u001B[1;32m<ipython-input-20-c0359f536b92>\u001B[0m in \u001B[0;36m<module>\u001B[1;34m\u001B[0m\n\u001B[0;32m     12\u001B[0m \u001B[0mresult\u001B[0m \u001B[1;33m=\u001B[0m \u001B[0msvsim\u001B[0m\u001B[1;33m.\u001B[0m\u001B[0mrun\u001B[0m\u001B[1;33m(\u001B[0m\u001B[0mqobj\u001B[0m\u001B[1;33m)\u001B[0m\u001B[1;33m.\u001B[0m\u001B[0mresult\u001B[0m\u001B[1;33m(\u001B[0m\u001B[1;33m)\u001B[0m\u001B[1;33m\u001B[0m\u001B[1;33m\u001B[0m\u001B[0m\n\u001B[0;32m     13\u001B[0m \u001B[0mcount\u001B[0m \u001B[1;33m=\u001B[0m \u001B[0mresult\u001B[0m\u001B[1;33m.\u001B[0m\u001B[0mget_counts\u001B[0m\u001B[1;33m(\u001B[0m\u001B[1;33m)\u001B[0m\u001B[1;33m\u001B[0m\u001B[1;33m\u001B[0m\u001B[0m\n\u001B[1;32m---> 14\u001B[1;33m \u001B[0mplot_histogram\u001B[0m\u001B[1;33m(\u001B[0m\u001B[0mcounts\u001B[0m\u001B[1;33m)\u001B[0m\u001B[1;33m\u001B[0m\u001B[1;33m\u001B[0m\u001B[0m\n\u001B[0m\u001B[0;32m     15\u001B[0m \u001B[0mout_state\u001B[0m \u001B[1;33m=\u001B[0m \u001B[0mresult\u001B[0m\u001B[1;33m.\u001B[0m\u001B[0mget_statevector\u001B[0m\u001B[1;33m(\u001B[0m\u001B[1;33m)\u001B[0m\u001B[1;33m\u001B[0m\u001B[1;33m\u001B[0m\u001B[0m\n\u001B[0;32m     16\u001B[0m \u001B[0mprint\u001B[0m\u001B[1;33m(\u001B[0m\u001B[0mout_state\u001B[0m\u001B[1;33m)\u001B[0m\u001B[1;33m\u001B[0m\u001B[1;33m\u001B[0m\u001B[0m\n",
      "\u001B[1;31mNameError\u001B[0m: name 'counts' is not defined"
     ]
    }
   ],
   "source": [
    "#working qiskit\n",
    "\n",
    "from qiskit import QuantumRegister, QuantumCircuit, ClassicalRegister, execute, Aer, assemble\n",
    "from random import randrange\n",
    "from qiskit.visualization import plot_histogram, plot_bloch_vector\n",
    "qc = QuantumCircuit(1)\n",
    "initial_state = [0,1]\n",
    "qc.initialize(initial_state, 0)\n",
    "qc.draw()\n",
    "qobj = assemble(qc)\n",
    "svsim = Aer.get_backend('statevector_simulator')\n",
    "result = svsim.run(qobj).result()\n",
    "count = result.get_counts()\n",
    "plot_histogram(counts)\n",
    "out_state = result.get_statevector()\n",
    "print(out_state)\n",
    "\n",
    "qc.measure_all()\n",
    "qc.draw()\n"
   ]
  },
  {
   "cell_type": "code",
   "execution_count": 5,
   "metadata": {
    "scrolled": true
   },
   "outputs": [
    {
     "data": {
      "image/png": "[encoded data removed]",
      "text/plain": [
       "<Figure size 568.052x204.68 with 1 Axes>"
      ]
     },
     "metadata": {},
     "output_type": "display_data"
    },
    {
     "name": "stdout",
     "output_type": "stream",
     "text": [
      "00 --> {'00': 100}\n"
     ]
    },
    {
     "data": {
      "image/png": "[encoded data removed]",
      "text/plain": [
       "<Figure size 628.252x204.68 with 1 Axes>"
      ]
     },
     "metadata": {},
     "output_type": "display_data"
    },
    {
     "name": "stdout",
     "output_type": "stream",
     "text": [
      "01 --> {'10': 100}\n"
     ]
    },
    {
     "data": {
      "image/png": "[encoded data removed]",
      "text/plain": [
       "<Figure size 628.252x204.68 with 1 Axes>"
      ]
     },
     "metadata": {},
     "output_type": "display_data"
    },
    {
     "name": "stdout",
     "output_type": "stream",
     "text": [
      "10 --> {'10': 100}\n"
     ]
    },
    {
     "data": {
      "image/png": "[encoded data removed]",
      "text/plain": [
       "<Figure size 688.452x204.68 with 1 Axes>"
      ]
     },
     "metadata": {},
     "output_type": "display_data"
    },
    {
     "name": "stdout",
     "output_type": "stream",
     "text": [
      "11 --> {'00': 100}\n"
     ]
    }
   ],
   "source": [
    "'''\n",
    "Verify the correctness of the above protocol.\n",
    "\n",
    "For each pair of  (𝑎,𝑏)∈{(0,0),(0,1),(1,0),(1,1)} :\n",
    "\n",
    "Create a quantum curcuit with two qubits: Asja's and Balvis' qubits\n",
    "\n",
    "\n",
    "\n",
    "\n",
    "Both are initially set to  |0⟩ \n",
    "Apply h-gate (Hadamard) to Asja's qubit\n",
    "Apply cx-gate as CNOT(Asja's-qubit,Balvis'-qubit)\n",
    "Assume that both qubits are separated from each other.\n",
    "\n",
    "If  𝑎  is 1, then apply z-gate to Asja's qubit.\n",
    "If  𝑏  is 1, then apply x-gate (NOT) to Asja's qubit.\n",
    "Assume that Asja sends her qubit to Balvis.\n",
    "\n",
    "Apply cx-gate as CNOT(Asja's-qubit,Balvis'-qubit)\n",
    "Apply h-gate (Hadamard) to Asja's qubit\n",
    "Measure both qubits and compare the results with pair  (𝑎,𝑏)\n",
    "'''\n",
    "\n",
    "from qiskit import QuantumCircuit, QuantumRegister, ClassicalRegister, Aer, execute\n",
    "\n",
    "all_pairs = ['00','01', '10','11']\n",
    "for pair in all_pairs:\n",
    "    q = QuantumRegister(2, 'q')\n",
    "    c = ClassicalRegister(2, 'c')\n",
    "    qc = QuantumCircuit(q,c)\n",
    "\n",
    "    qc.h(q[1])\n",
    "    qc.cx(q[1],q[0])\n",
    "\n",
    "#the two qubits are separated from eachother now\n",
    "\n",
    "    if pair[0] == '1':\n",
    "        qc.z(q[1])\n",
    "    \n",
    "    if pair[1] == '1':\n",
    "        qc.z(q[1])\n",
    "\n",
    "\n",
    "\n",
    "    qc.barrier()\n",
    "    qc.cx(q[1],q[0])\n",
    "    \n",
    "    qc.h(q[1])\n",
    "\n",
    "    qc.barrier()\n",
    "    qc.measure(q,c)\n",
    "    \n",
    "    \n",
    "    #to display the circuit\n",
    "    display(qc.draw(output='mpl', reverse_bits = True))\n",
    "    \n",
    "    #compare the result with pair (a,b)\n",
    "    job = execute(qc,Aer.get_backend('qasm_simulator'), shots = 100)\n",
    "    counts = job.result().get_counts(qc)\n",
    "    print(pair, \"-->\", counts)\n",
    "    \n",
    "    \n",
    "    \n",
    "    \n",
    "    \n",
    "    \n",
    "    \n",
    "    \n",
    "    \n",
    "    \n",
    "    \n",
    "    \n",
    "    "
   ]
  },
  {
   "cell_type": "code",
   "execution_count": 9,
   "metadata": {},
   "outputs": [
    {
     "name": "stdout",
     "output_type": "stream",
     "text": [
      "11 --> {'01': 1024}\n"
     ]
    }
   ],
   "source": [
    "q = QuantumRegister(2,\"q\")\n",
    "c = ClassicalRegister(2,\"c\")\n",
    "qc = QuantumCircuit(q,c)\n",
    "\n",
    "qc.x(q[0])\n",
    "\n",
    "qc.measure(q[0],c[0])\n",
    "\n",
    "qc.h(q[1]).c_if(c,0)\n",
    "\n",
    "qc.measure(q,c)\n",
    "\n",
    "\n",
    "job = execute(qc,Aer.get_backend('qasm_simulator'), shots = 1024)\n",
    "counts = job.result().get_counts(qc)\n",
    "print(pair, \"-->\", counts)\n",
    "    "
   ]
  },
  {
   "cell_type": "code",
   "execution_count": 10,
   "metadata": {},
   "outputs": [
    {
     "name": "stdout",
     "output_type": "stream",
     "text": [
      "{'11': 100}\n"
     ]
    }
   ],
   "source": [
    "q2 = QuantumRegister(2,\"qreg\")\n",
    "c2 = ClassicalRegister(2,\"creg\")\n",
    "qc2 = QuantumCircuit(q2,c2)\n",
    "\n",
    "\n",
    "qc2.x(q2[0])\n",
    "qc2.x(q2[1])\n",
    "qc2.z(q2[1])\n",
    "\n",
    "qc2.measure(q2,c2)\n",
    "job = execute(qc2,Aer.get_backend('qasm_simulator'),shots=100)\n",
    "counts = job.result().get_counts(qc2)\n",
    "print(counts) # counts is a dictionary"
   ]
  },
  {
   "cell_type": "code",
   "execution_count": 12,
   "metadata": {},
   "outputs": [
    {
     "name": "stdout",
     "output_type": "stream",
     "text": [
      "{'01': 1024}\n"
     ]
    }
   ],
   "source": [
    "q2 = QuantumRegister(2,\"qreg\")\n",
    "c2 = ClassicalRegister(2,\"creg\")\n",
    "qc2 = QuantumCircuit(q2,c2)\n",
    "\n",
    "\n",
    "qc2.x(q2[0])\n",
    "\n",
    "qc2.measure(q2,c2)\n",
    "job = execute(qc2,Aer.get_backend('qasm_simulator'),shots=1024)\n",
    "counts = job.result().get_counts(qc2)\n",
    "print(counts) # counts is a dictionary"
   ]
  },
  {
   "cell_type": "code",
   "execution_count": null,
   "metadata": {},
   "outputs": [],
   "source": []
  }
 ],
 "metadata": {
  "kernelspec": {
   "display_name": "Python 3",
   "language": "python",
   "name": "python3"
  },
  "language_info": {
   "codemirror_mode": {
    "name": "ipython",
    "version": 3
   },
   "file_extension": ".py",
   "mimetype": "text/x-python",
   "name": "python",
   "nbconvert_exporter": "python",
   "pygments_lexer": "ipython3",
   "version": "3.8.10"
  }
 },
 "nbformat": 4,
 "nbformat_minor": 4
}