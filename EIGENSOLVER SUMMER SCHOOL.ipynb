{
 "cells": [
  {
   "cell_type": "code",
   "execution_count": 5,
   "id": "d2414d1b",
   "metadata": {
    "scrolled": true
   },
   "outputs": [
    {
     "data": {
      "image/png": "[encoded data removed]",
      "text/plain": [
       "<Figure size 133.526x144.48 with 1 Axes>"
      ]
     },
     "execution_count": 5,
     "metadata": {},
     "output_type": "execute_result"
    }
   ],
   "source": [
    "from qiskit import *\n",
    "circ1 = QuantumCircuit(1,1)\n",
    "circ1.h(0)\n",
    "circ1.draw('mpl')"
   ]
  },
  {
   "cell_type": "code",
   "execution_count": 6,
   "id": "ea921ecd",
   "metadata": {},
   "outputs": [
    {
     "data": {
      "image/png": "[encoded data removed]",
      "text/plain": [
       "<Figure size 146.652x204.68 with 1 Axes>"
      ]
     },
     "execution_count": 6,
     "metadata": {},
     "output_type": "execute_result"
    }
   ],
   "source": [
    "circ2 = QuantumCircuit(2,2)\n",
    "circ2.h(0)\n",
    "circ2.z(1)\n",
    "circ2.draw('mpl')"
   ]
  },
  {
   "cell_type": "code",
   "execution_count": 8,
   "id": "2ea0394a",
   "metadata": {},
   "outputs": [
    {
     "data": {
      "image/png": "[encoded data removed]",
      "text/plain": [
       "<Figure size 327.252x204.68 with 1 Axes>"
      ]
     },
     "execution_count": 8,
     "metadata": {},
     "output_type": "execute_result"
    }
   ],
   "source": [
    "circ3 = QuantumCircuit(2,2)\n",
    "circ3.h(0)\n",
    "circ3.cx(0,1)\n",
    "circ3.measure([0,1],[0,1])\n",
    "circ3.draw('mpl')"
   ]
  },
  {
   "cell_type": "code",
   "execution_count": 9,
   "id": "84ff4392",
   "metadata": {},
   "outputs": [
    {
     "data": {
      "text/plain": [
       "array([ 0.70710678+0.j,  0.70710678+0.j, -0.        +0.j, -0.        +0.j])"
      ]
     },
     "execution_count": 9,
     "metadata": {},
     "output_type": "execute_result"
    }
   ],
   "source": [
    "#Using quantum circuits\n",
    "\n",
    "#STATEVECTOR\n",
    "import numpy as np\n",
    "simulator = Aer.get_backend('statevector_simulator')\n",
    "result = execute(circ2, backend = simulator).result()\n",
    "psi = result.get_statevector()\n",
    "psi"
   ]
  },
  {
   "cell_type": "code",
   "execution_count": 13,
   "id": "f8637d2c",
   "metadata": {
    "scrolled": true
   },
   "outputs": [
    {
     "data": {
      "text/plain": [
       "1.0"
      ]
     },
     "execution_count": 13,
     "metadata": {},
     "output_type": "execute_result"
    }
   ],
   "source": [
    "import numpy as np\n",
    "np.linalg.norm(psi)"
   ]
  },
  {
   "cell_type": "code",
   "execution_count": null,
   "id": "224a7ad9",
   "metadata": {},
   "outputs": [],
   "source": [
    "#Getting the Unitary\n",
    "simulator = Aer.get_backend('unitary_simulator')\n",
    "result = execute(circ3, backend = simulator).result()\n",
    "U = result.get_unitary()\n"
   ]
  }
 ],
 "metadata": {
  "kernelspec": {
   "display_name": "Python 3",
   "language": "python",
   "name": "python3"
  },
  "language_info": {
   "codemirror_mode": {
    "name": "ipython",
    "version": 3
   },
   "file_extension": ".py",
   "mimetype": "text/x-python",
   "name": "python",
   "nbconvert_exporter": "python",
   "pygments_lexer": "ipython3",
   "version": "3.8.10"
  }
 },
 "nbformat": 4,
 "nbformat_minor": 5
}
