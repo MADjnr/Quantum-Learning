{
 "cells": [
  {
   "cell_type": "code",
   "execution_count": 1,
   "id": "b8fe95fc-80c9-4a9c-8bd9-c79a3076019d",
   "metadata": {},
   "outputs": [],
   "source": [
    "import numpy as np\n"
   ]
  },
  {
   "cell_type": "code",
   "execution_count": 5,
   "id": "3fec62f4-f16c-43c0-8da3-402342e9ed1c",
   "metadata": {},
   "outputs": [
    {
     "name": "stdout",
     "output_type": "stream",
     "text": [
      "|0> ket:\n",
      " [[1]\n",
      " [0]]\n",
      "\n",
      "<0| bra:\n",
      " [[1 0]]\n"
     ]
    }
   ],
   "source": [
    "zero_ket = np.array([[1],[0]])\n",
    "print('|0> ket:\\n', zero_ket)\n",
    "print()\n",
    "print('<0| bra:\\n', zero_ket.T.conj())"
   ]
  },
  {
   "cell_type": "code",
   "execution_count": null,
   "id": "13ebe52d-d63e-4cbc-b7ce-7cb1ade44cca",
   "metadata": {},
   "outputs": [],
   "source": [
    "row_zero_ket = zero_ket.T.conj()\n",
    "np.dot(zero_ket,row_zero_ket)\n",
    "        "
   ]
  },
  {
   "cell_type": "code",
   "execution_count": 6,
   "id": "36283484-4d01-443b-9ca3-5513dbc89e68",
   "metadata": {},
   "outputs": [
    {
     "data": {
      "text/plain": [
       "array([[1, 0],\n",
       "       [0, 0]])"
      ]
     },
     "execution_count": 6,
     "metadata": {},
     "output_type": "execute_result"
    }
   ],
   "source": [
    "zero_ket.dot(zero_ket.T.conj())  #this is how to calculate the dot product!!!!!"
   ]
  },
  {
   "cell_type": "code",
   "execution_count": null,
   "id": "ababb459-bb14-437c-924f-dbd0a3ba506a",
   "metadata": {},
   "outputs": [],
   "source": []
  },
  {
   "cell_type": "code",
   "execution_count": 7,
   "id": "1f0e3189-45f6-48ae-b774-be1845d356e7",
   "metadata": {},
   "outputs": [
    {
     "data": {
      "text/plain": [
       "array([[0.5]])"
      ]
     },
     "execution_count": 7,
     "metadata": {},
     "output_type": "execute_result"
    }
   ],
   "source": [
    "''' the code below will calculate the probability amplitude of a state'''\n",
    "\n",
    "phi = np.array([[1], [1]])/np.sqrt(2)\n",
    "mixed_state = zero_ket.dot(zero_ket.T.conj())\n",
    "\n",
    "phi.T.conj().dot(mixed_state.dot(phi))"
   ]
  },
  {
   "cell_type": "code",
   "execution_count": 8,
   "id": "d971db50-a95e-46ab-bd0b-f29f033e32cb",
   "metadata": {},
   "outputs": [
    {
     "data": {
      "text/plain": [
       "array([[0.70710678, 0.70710678]])"
      ]
     },
     "execution_count": 8,
     "metadata": {},
     "output_type": "execute_result"
    }
   ],
   "source": [
    "phi.T.conj()"
   ]
  },
  {
   "cell_type": "code",
   "execution_count": 9,
   "id": "0affc0f5-1e74-455f-ba7e-fb6f18c8acb0",
   "metadata": {},
   "outputs": [
    {
     "data": {
      "text/plain": [
       "array([[0.70710678],\n",
       "       [0.        ]])"
      ]
     },
     "execution_count": 9,
     "metadata": {},
     "output_type": "execute_result"
    }
   ],
   "source": [
    "mixed_state.dot(phi)"
   ]
  },
  {
   "cell_type": "code",
   "execution_count": 11,
   "id": "ce20ddac-933b-473e-bbb1-bf2cc94ac9bc",
   "metadata": {},
   "outputs": [
    {
     "name": "stdout",
     "output_type": "stream",
     "text": [
      "Help on built-in function dot:\n",
      "\n",
      "dot(...) method of numpy.ndarray instance\n",
      "    a.dot(b, out=None)\n",
      "    \n",
      "    Dot product of two arrays.\n",
      "    \n",
      "    Refer to `numpy.dot` for full documentation.\n",
      "    \n",
      "    See Also\n",
      "    --------\n",
      "    numpy.dot : equivalent function\n",
      "    \n",
      "    Examples\n",
      "    --------\n",
      "    >>> a = np.eye(2)\n",
      "    >>> b = np.ones((2, 2)) * 2\n",
      "    >>> a.dot(b)\n",
      "    array([[2.,  2.],\n",
      "           [2.,  2.]])\n",
      "    \n",
      "    This array method can be conveniently chained:\n",
      "    \n",
      "    >>> a.dot(b).dot(b)\n",
      "    array([[8.,  8.],\n",
      "           [8.,  8.]])\n",
      "\n"
     ]
    }
   ],
   "source": [
    "help(mixed_state.dot)"
   ]
  },
  {
   "cell_type": "code",
   "execution_count": 22,
   "id": "d9ff0031-4f26-46ca-b0a5-1b05b5554af4",
   "metadata": {},
   "outputs": [
    {
     "data": {
      "text/plain": [
       "array([[2., 2.],\n",
       "       [2., 2.]])"
      ]
     },
     "execution_count": 22,
     "metadata": {},
     "output_type": "execute_result"
    }
   ],
   "source": [
    "a = np.ones((2,2))*2\n",
    "a"
   ]
  },
  {
   "cell_type": "code",
   "execution_count": 24,
   "id": "7d6bf9d2-3a35-410e-9e1e-4e6cb719339c",
   "metadata": {},
   "outputs": [
    {
     "data": {
      "text/plain": [
       "array([[1., 0., 0., 0.],\n",
       "       [0., 1., 0., 0.],\n",
       "       [0., 0., 1., 0.],\n",
       "       [0., 0., 0., 1.]])"
      ]
     },
     "execution_count": 24,
     "metadata": {},
     "output_type": "execute_result"
    }
   ],
   "source": [
    "b = np.eye(4)\n",
    "b"
   ]
  },
  {
   "cell_type": "code",
   "execution_count": 25,
   "id": "cc87d787-b714-4a64-9396-bcd9276143c6",
   "metadata": {},
   "outputs": [
    {
     "name": "stdout",
     "output_type": "stream",
     "text": [
      "Help on function eye in module numpy:\n",
      "\n",
      "eye(N, M=None, k=0, dtype=<class 'float'>, order='C', *, like=None)\n",
      "    Return a 2-D array with ones on the diagonal and zeros elsewhere.\n",
      "    \n",
      "    Parameters\n",
      "    ----------\n",
      "    N : int\n",
      "      Number of rows in the output.\n",
      "    M : int, optional\n",
      "      Number of columns in the output. If None, defaults to `N`.\n",
      "    k : int, optional\n",
      "      Index of the diagonal: 0 (the default) refers to the main diagonal,\n",
      "      a positive value refers to an upper diagonal, and a negative value\n",
      "      to a lower diagonal.\n",
      "    dtype : data-type, optional\n",
      "      Data-type of the returned array.\n",
      "    order : {'C', 'F'}, optional\n",
      "        Whether the output should be stored in row-major (C-style) or\n",
      "        column-major (Fortran-style) order in memory.\n",
      "    \n",
      "        .. versionadded:: 1.14.0\n",
      "    like : array_like\n",
      "        Reference object to allow the creation of arrays which are not\n",
      "        NumPy arrays. If an array-like passed in as ``like`` supports\n",
      "        the ``__array_function__`` protocol, the result will be defined\n",
      "        by it. In this case, it ensures the creation of an array object\n",
      "        compatible with that passed in via this argument.\n",
      "    \n",
      "        .. versionadded:: 1.20.0\n",
      "    \n",
      "    Returns\n",
      "    -------\n",
      "    I : ndarray of shape (N,M)\n",
      "      An array where all elements are equal to zero, except for the `k`-th\n",
      "      diagonal, whose values are equal to one.\n",
      "    \n",
      "    See Also\n",
      "    --------\n",
      "    identity : (almost) equivalent function\n",
      "    diag : diagonal 2-D array from a 1-D array specified by the user.\n",
      "    \n",
      "    Examples\n",
      "    --------\n",
      "    >>> np.eye(2, dtype=int)\n",
      "    array([[1, 0],\n",
      "           [0, 1]])\n",
      "    >>> np.eye(3, k=1)\n",
      "    array([[0.,  1.,  0.],\n",
      "           [0.,  0.,  1.],\n",
      "           [0.,  0.,  0.]])\n",
      "\n"
     ]
    }
   ],
   "source": [
    "help(np.eye)"
   ]
  },
  {
   "cell_type": "code",
   "execution_count": 26,
   "id": "da9798d2-0f5d-47a9-b1f0-c4f00a65eff2",
   "metadata": {},
   "outputs": [],
   "source": [
    "from qiskit import QuantumCircuit, ClassicalRegister, QuantumRegister\n",
    "from qiskit import execute\n",
    "from qiskit import BasicAer\n",
    "from qiskit.tools.visualization import plot_histogram\n"
   ]
  },
  {
   "cell_type": "code",
   "execution_count": 28,
   "id": "92ce15ae-f7e7-4a76-9b6f-486210ba3b7a",
   "metadata": {},
   "outputs": [
    {
     "data": {
      "image/png": "[encoded data removed]",
      "text/plain": [
       "<Figure size 206.852x144.48 with 1 Axes>"
      ]
     },
     "execution_count": 28,
     "metadata": {},
     "output_type": "execute_result"
    }
   ],
   "source": [
    "backend = BasicAer.get_backend('qasm_simulator')\n",
    "q = QuantumRegister(1)\n",
    "c = ClassicalRegister(1)\n",
    "circuit = QuantumCircuit(q,c)\n",
    "\n",
    "circuit.h(q[0])\n",
    "circuit.measure(q,c)\n",
    "circuit.draw('mpl')"
   ]
  },
  {
   "cell_type": "code",
   "execution_count": 31,
   "id": "1eb1a742-314b-4b9d-a0bc-1560c5109404",
   "metadata": {},
   "outputs": [
    {
     "data": {
      "image/png": "[encoded data removed]",
      "text/plain": [
       "<Figure size 504x360 with 1 Axes>"
      ]
     },
     "execution_count": 31,
     "metadata": {},
     "output_type": "execute_result"
    }
   ],
   "source": [
    "job = execute(circuit, backend, shots = 100)\n",
    "result = job.result()\n",
    "counts = result.get_counts()\n",
    "plot_histogram(counts)"
   ]
  },
  {
   "cell_type": "code",
   "execution_count": 37,
   "id": "616981c0-5f94-43fa-a6b5-c5e13697a894",
   "metadata": {},
   "outputs": [
    {
     "data": {
      "text/plain": [
       "array([[0.70710678],\n",
       "       [0.70710678]])"
      ]
     },
     "execution_count": 37,
     "metadata": {},
     "output_type": "execute_result"
    }
   ],
   "source": [
    "phi = np.array([[np.sqrt(2)/2], [np.sqrt(2)/2]])\n",
    "phi"
   ]
  },
  {
   "cell_type": "code",
   "execution_count": 38,
   "id": "cd71f786-2660-4092-9849-ac40ffc68087",
   "metadata": {},
   "outputs": [
    {
     "data": {
      "text/plain": [
       "array([[1, 0],\n",
       "       [0, 0]])"
      ]
     },
     "execution_count": 38,
     "metadata": {},
     "output_type": "execute_result"
    }
   ],
   "source": [
    "mixed_state = zero_ket.dot(zero_ket.T.conj())\n",
    "mixed_state"
   ]
  },
  {
   "cell_type": "code",
   "execution_count": 41,
   "id": "bf654dcb-1a09-480e-8a45-ce4480297e90",
   "metadata": {},
   "outputs": [
    {
     "data": {
      "text/plain": [
       "array([[0.70710678, 0.        ]])"
      ]
     },
     "execution_count": 41,
     "metadata": {},
     "output_type": "execute_result"
    }
   ],
   "source": [
    "probability_0 = phi.T.conj().dot(mixed_state)\n",
    "probability_0"
   ]
  },
  {
   "cell_type": "code",
   "execution_count": 36,
   "id": "35e9a2a4-704d-4491-921e-1a23a4321fe2",
   "metadata": {},
   "outputs": [
    {
     "name": "stderr",
     "output_type": "stream",
     "text": [
      "<ipython-input-36-32b16557ff86>:1: RuntimeWarning: divide by zero encountered in true_divide\n",
      "  mixed_state.dot(phi)/np.sqrt(probability_0)\n",
      "<ipython-input-36-32b16557ff86>:1: RuntimeWarning: invalid value encountered in true_divide\n",
      "  mixed_state.dot(phi)/np.sqrt(probability_0)\n"
     ]
    },
    {
     "data": {
      "text/plain": [
       "array([[0.84089642,        inf],\n",
       "       [0.        ,        nan]])"
      ]
     },
     "execution_count": 36,
     "metadata": {},
     "output_type": "execute_result"
    }
   ],
   "source": [
    "mixed_state.dot(phi)/np.sqrt(probability_0)"
   ]
  },
  {
   "cell_type": "code",
   "execution_count": 40,
   "id": "2d152a56-bdf3-4082-ac5d-a92496385eb3",
   "metadata": {},
   "outputs": [
    {
     "data": {
      "text/plain": [
       "array([[1, 0],\n",
       "       [0, 0]])"
      ]
     },
     "execution_count": 40,
     "metadata": {},
     "output_type": "execute_result"
    }
   ],
   "source": [
    "mixed_state"
   ]
  },
  {
   "cell_type": "code",
   "execution_count": null,
   "id": "df665c2e-a0e6-43e4-9409-651d2049d7f4",
   "metadata": {},
   "outputs": [],
   "source": []
  }
 ],
 "metadata": {
  "kernelspec": {
   "display_name": "Python 3",
   "language": "python",
   "name": "python3"
  },
  "language_info": {
   "codemirror_mode": {
    "name": "ipython",
    "version": 3
   },
   "file_extension": ".py",
   "mimetype": "text/x-python",
   "name": "python",
   "nbconvert_exporter": "python",
   "pygments_lexer": "ipython3",
   "version": "3.8.10"
  }
 },
 "nbformat": 4,
 "nbformat_minor": 5
}
