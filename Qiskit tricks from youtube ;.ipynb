{
 "cells": [
  {
   "cell_type": "code",
   "execution_count": null,
   "id": "6086ecf8",
   "metadata": {},
   "outputs": [],
   "source": [
    "''' the link to this youtube tricks on qiskit is \n",
    "https://www.youtube.com/watch?v=xUt4YKQEUco&list=PLOFEBzvs-VvpOCmJ9BonUhf7NYB4d1p0e \n",
    "'''"
   ]
  },
  {
   "cell_type": "code",
   "execution_count": null,
   "id": "6c8a8a5b",
   "metadata": {},
   "outputs": [],
   "source": [
    "#how to can i bundle several circuits into a single job\n",
    "\n",
    "from qiskit import QuantumCircuit, Aer, transpile, Assemble, execute\n",
    "from qiskit.test.mock import Fakev"
   ]
  }
 ],
 "metadata": {
  "kernelspec": {
   "display_name": "Python 3",
   "language": "python",
   "name": "python3"
  },
  "language_info": {
   "codemirror_mode": {
    "name": "ipython",
    "version": 3
   },
   "file_extension": ".py",
   "mimetype": "text/x-python",
   "name": "python",
   "nbconvert_exporter": "python",
   "pygments_lexer": "ipython3",
   "version": "3.8.10"
  }
 },
 "nbformat": 4,
 "nbformat_minor": 5
}
